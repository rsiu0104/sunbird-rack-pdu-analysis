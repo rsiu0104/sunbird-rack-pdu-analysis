{
 "cells": [
  {
   "cell_type": "code",
   "execution_count": null,
   "metadata": {
    "collapsed": true
   },
   "outputs": [],
   "source": [
    "import pandas as pd\n",
    "import numpy as np\n",
    "\n",
    "filename_timestamp = '2019071710'\n",
    "file_conn = 'input\\Circuit Trace IMC3 IMC4 20190712.csv';\n",
    "file_event = 'input\\Event IMC3 PDU offline 20190617.csv'\n",
    "file_pdu = 'input\\Export Rack PDU IMC3 IMC4 ' + filename_timestamp + '.csv'\n",
    "file_piq_pdu = 'input\\PIQ PDU ' + filename_timestamp + '.csv'\n",
    "\n",
    "df_event = pd.read_csv(file_event);\n",
    "df_conn = pd.read_csv(file_conn);\n",
    "df_pdu = pd.read_csv(file_pdu, comment='#', header=None);\n",
    "df_piq_pdu = pd.read_csv(file_piq_pdu, comment='#');"
   ]
  },
  {
   "cell_type": "code",
   "execution_count": null,
   "metadata": {
    "collapsed": true
   },
   "outputs": [],
   "source": [
    "# name is col 7\n",
    "# ip address is col 38\n",
    "# proxy index is col 40\n",
    "# serial number is col4\n",
    "\n",
    "bool_make_is_raritan = df_pdu[2].str.match('Raritan', na=False)\n",
    "bool_status_is_archive = df_pdu[15].str.match('Archived', na=False)\n",
    "df_pdu2 = df_pdu.loc[bool_make_is_raritan & ~bool_status_is_archive, [4, 7,38, 40]]\n",
    "df_pdu2['Name'] = df_pdu2[7].str.extract('([34][ABSW][0-9]+[RB][0-9])', expand=True)\n",
    "df_pdu2['Proxy'] = df_pdu2[40].fillna(0).astype(int)\n",
    "df_pdu2['IP address'] = df_pdu2[38]\n",
    "df_pdu2['Serial Number'] = df_pdu2[4]\n",
    "df_pdu2['Serial Number'] = df_pdu2[4]\n",
    "df_pdu2['IP with Proxy'] = df_pdu2['IP address'] + ' - ' + df_pdu2['Proxy'].astype(str)\n",
    "\n",
    "\n",
    "#Fix name that is not following convention of 3A45R1\n",
    "bool_name_is_null = df_pdu2['Name'].isnull()\n",
    "df_pdu2.loc[bool_name_is_null, 'Name'] = df_pdu2.loc[bool_name_is_null, 7]"
   ]
  },
  {
   "cell_type": "code",
   "execution_count": null,
   "metadata": {},
   "outputs": [],
   "source": [
    "df_pdu3 = df_pdu2.drop([4, 7, 38, 40], axis=1)\n",
    "\n",
    "#List of PDU with names not following convention\n",
    "print(\"Total Raritan Rack PDU in IMC3:\", df_pdu3.shape[0])\n",
    "print(\"PDU with non-conventional names:\", df_pdu3.loc[bool_name_is_null].shape[0])\n",
    "display(df_pdu3.loc[bool_name_is_null,:])"
   ]
  },
  {
   "cell_type": "code",
   "execution_count": null,
   "metadata": {},
   "outputs": [],
   "source": [
    "bool_make_is_raritan_piq = df_piq_pdu['Manufacturer'].str.match('Raritan', na=False)\n",
    "\n",
    "print(\"Total Num of Raritan device:\", df_piq_pdu.loc[bool_make_is_raritan_piq, :].shape[0], \"\\n\")\n",
    "print(\"Num by Raritan Model: \\n\", df_piq_pdu.loc[bool_make_is_raritan_piq, :].groupby('Model')['Label'].nunique(), \"\\n\")\n",
    "\n",
    "bool_model_is_PX3 = df_piq_pdu['Model'].str.match('PX3-', na=False)\n",
    "df_piq_pdu2 = df_piq_pdu.loc[bool_make_is_raritan_piq & bool_model_is_PX3, ['Label', 'Serial Number', 'Name']]\n",
    "print(\"Total Num of Raritan device:\", df_piq_pdu2.shape[0], \"\\n\")\n",
    "\n",
    "#print(df_piq_pdu2)\n",
    "\n",
    "#print(df_pdu3.loc[:,['IP with Proxy', 'Serial Number', 'Name']])\n",
    "\n",
    "print(\"Num of dcTrack PDU:\", df_pdu3.shape[0])\n"
   ]
  },
  {
   "cell_type": "code",
   "execution_count": null,
   "metadata": {
    "collapsed": true
   },
   "outputs": [],
   "source": [
    "print(df_pdu3.columns)\n",
    "print(df_piq_pdu2.columns)"
   ]
  },
  {
   "cell_type": "code",
   "execution_count": null,
   "metadata": {
    "collapsed": true
   },
   "outputs": [],
   "source": [
    "#Match by Name\n",
    "m = {'left_only': 'dcTrack', 'right_only': 'PIQ', 'both': 'dcTrack, PIQ'}\n",
    "result = df_pdu3.merge(df_piq_pdu2, on=['Name'], how='outer', indicator='Scope')\n",
    "result['Scope'] = result['Scope'].map(m)\n",
    "\n",
    "result['Same IP Proxy'] = np.where(result['IP with Proxy'] == result['Label'], True, False)\n",
    "bool_same_ipproxy = result['Same IP Proxy'] == True;\n",
    "result = result.rename(index=str, columns={'IP with Proxy': 'dcTrack IP Proxy', 'Label': 'PIQ IP Proxy'})\n",
    "print(result)\n",
    "result.to_csv('output\\pdu_name_diff_ipproxy_' + filename_timestamp + '.csv', columns=['Scope', 'Same IP Proxy', 'dcTrack IP Proxy', 'Name', 'PIQ IP Proxy'])"
   ]
  },
  {
   "cell_type": "code",
   "execution_count": null,
   "metadata": {
    "collapsed": true
   },
   "outputs": [],
   "source": [
    "#Match by IP Proxy\n",
    "\n",
    "result2 = df_pdu3.merge(df_piq_pdu2, left_on=['IP with Proxy'], right_on=['Label'], how='outer', indicator='Scope')\n",
    "result2['Scope'] = result2['Scope'].map(m)\n",
    "\n",
    "result2['Same Name'] = np.where(result2['Name_x'] == result2['Name_y'], True, False)\n",
    "bool_same_name = result2['Same Name'] == True\n",
    "display(result2.loc[~bool_same_name, ['Scope','Name_x', 'IP with Proxy', 'Label', 'Name_y']])\n",
    "result2 = result2.rename(index=str, columns={'Name_x': 'dcTrack Name', 'Name_y': 'PIQ Name', 'IP with Proxy': 'dcTrack IP Proxy', 'Label': 'PIQ IP Proxy'})\n",
    "result2.to_csv('output\\ipproxy_with_different_name_' + filename_timestamp + '.csv', columns=['Scope', 'Same Name', 'dcTrack Name', 'dcTrack IP Proxy', 'PIQ IP Proxy', 'PIQ Name'])"
   ]
  },
  {
   "cell_type": "code",
   "execution_count": null,
   "metadata": {
    "collapsed": true
   },
   "outputs": [],
   "source": [
    "#Trace circuit from Event log"
   ]
  },
  {
   "cell_type": "code",
   "execution_count": null,
   "metadata": {
    "collapsed": true
   },
   "outputs": [],
   "source": [
    "#Split series of circuit trace into df\n",
    "df_circuit = df_conn['Circuit Trace'];\n",
    "bool_circuit_match_pdu = df_circuit.str.match('[34][ABSW][0-9]+[RB][0-9]', na=True)\n",
    "df_circuit2 = df_circuit.loc[bool_circuit_match_pdu].str.split(' - ', expand=True)\n",
    "\n",
    "#Clean up df_circuit2 into #Rack PDU (3A44B1), Power Outlet (PDU-1F-C02-13L3:B1), PDU Panel Port (C02:13L3), \n",
    "#  PDU Panel (C02), Floor PDU (PDU-1F-C02), UPS Bank (UPS BANK B)\n",
    "df_circuit3 = df_circuit2.copy()\n",
    "df_circuit3['Rack PDU'] = df_circuit2.loc[:,0].str.extract('([34][ABSW][0-9]+[RB][0-9])', expand=True)\n",
    "df_circuit3['Power Outlet'] = df_circuit2.loc[:,0].str.extract('(PDU-[0-9]+F-[A-Z][0-9]+-[0-9]+L[0-9]:[A-Z][0-9])', expand=True)\n",
    "df_circuit3['PDU Panel Port'] = df_circuit2.loc[:,1]\n",
    "df_circuit3['Power Panel'] = df_circuit2.loc[:,2].str.extract('([A-Z][0-9]+):', expand=True)\n",
    "df_circuit3['Floor PDU'] = df_circuit2.loc[:,3].str.extract('(PDU-[0-9]F-[A-Z][0-9]+):', expand=True)\n",
    "df_circuit3['UPS Bank'] = df_circuit2.loc[:,4].str.extract('(UPS BANK [A-Z]):', expand=True)"
   ]
  },
  {
   "cell_type": "code",
   "execution_count": null,
   "metadata": {
    "collapsed": true
   },
   "outputs": [],
   "source": [
    "df_circuit4 = df_circuit3.drop([0, 1, 2, 3, 4], axis=1)\n",
    "\n",
    "print(\"Number of Rack PDU in Circuit:\", df_circuit4.shape[0])\n",
    "display(df_circuit4)"
   ]
  },
  {
   "cell_type": "code",
   "execution_count": null,
   "metadata": {
    "collapsed": true
   },
   "outputs": [],
   "source": [
    "#NaN in Power Outlet?"
   ]
  },
  {
   "cell_type": "code",
   "execution_count": null,
   "metadata": {
    "collapsed": true
   },
   "outputs": [],
   "source": [
    "#The following list of pdu is not in circuit trace\n",
    "#Looks like DCO created their own floor PDU incorrectly\n",
    "bool_pdu_isin_circuit = df_pdu3['Name'].isin(df_circuit4['Rack PDU'])\n",
    "\n",
    "print(\"Number of Rack PDU not in Circuit Trace:\", df_pdu3.loc[~bool_pdu_isin_circuit,:].shape[0], \"\\n\")\n",
    "print(df_pdu3.loc[~bool_pdu_isin_circuit,:])\n",
    "\n",
    "df_pdu3.loc[~bool_pdu_isin_circuit,:].to_csv('output\\pdu_does_not_have_circuit_' + filename_timestamp + '.csv', \",\", index=False);"
   ]
  },
  {
   "cell_type": "code",
   "execution_count": null,
   "metadata": {
    "collapsed": true
   },
   "outputs": [],
   "source": [
    "#Add ip with proxy to df_circuit4\n",
    "#df.join(other.set_index('key'), on='key')\n",
    "\n",
    "df_circuit5 = df_circuit4.join(df_pdu3.set_index('Name'), on='Rack PDU')\n",
    "print(\"Number of circuits with null values:\", df_circuit5.isnull().any(axis=1).sum())\n",
    "display(df_circuit5[df_circuit5.isnull().any(axis=1)])"
   ]
  },
  {
   "cell_type": "code",
   "execution_count": null,
   "metadata": {
    "collapsed": true
   },
   "outputs": [],
   "source": [
    "df_circuit5.to_csv('output\\circuit_with_ip_proxy_' + filename_timestamp + '.csv')"
   ]
  },
  {
   "cell_type": "code",
   "execution_count": null,
   "metadata": {
    "collapsed": true
   },
   "outputs": [],
   "source": [
    "#duplicateRowsDF = dfObj[dfObj.duplicated(['Name'])]\n",
    "#df.sort_values(by=['col1'])\n",
    "\n",
    "bool_ipproxy_dup = df_pdu3.duplicated(['IP with Proxy'], keep=False)\n",
    "print(\"Number of PDU with IP Proxy conflicts:\", df_pdu3.loc[bool_ipproxy_dup,:].shape[0])\n",
    "display(df_pdu3.loc[bool_ipproxy_dup,:].sort_values(by=['IP with Proxy']))"
   ]
  },
  {
   "cell_type": "code",
   "execution_count": null,
   "metadata": {
    "collapsed": true
   },
   "outputs": [],
   "source": [
    "print(df_event.columns)\n",
    "display(df_event)"
   ]
  },
  {
   "cell_type": "code",
   "execution_count": null,
   "metadata": {
    "collapsed": true
   },
   "outputs": [],
   "source": [
    "#df.join(other.set_index('key'), on='key')\n",
    "\n",
    "df_event2 = df_event.join(df_circuit5.set_index('IP with Proxy'), on='Target')\n",
    "display(df_event2)\n"
   ]
  },
  {
   "cell_type": "code",
   "execution_count": null,
   "metadata": {
    "collapsed": true
   },
   "outputs": [],
   "source": [
    "#df.groupby('domain')['ID'].nunique()\n",
    "print(df_event2.loc[:, ['Rack PDU', 'Target', 'Floor PDU', 'UPS Bank']].groupby('UPS Bank')['Rack PDU'].nunique())\n",
    "print(df_event2.loc[:, ['Rack PDU', 'Target', 'Floor PDU', 'UPS Bank']].groupby('Floor PDU')['Rack PDU'].nunique())"
   ]
  },
  {
   "cell_type": "code",
   "execution_count": null,
   "metadata": {
    "collapsed": true
   },
   "outputs": [],
   "source": [
    "df_event2.loc[df_event2['Target'] == '10.218.76.151 - 8', :]"
   ]
  }
 ],
 "metadata": {
  "kernelspec": {
   "display_name": "Python 3",
   "language": "python",
   "name": "python3"
  },
  "language_info": {
   "codemirror_mode": {
    "name": "ipython",
    "version": 3
   },
   "file_extension": ".py",
   "mimetype": "text/x-python",
   "name": "python",
   "nbconvert_exporter": "python",
   "pygments_lexer": "ipython3",
   "version": "3.6.3"
  }
 },
 "nbformat": 4,
 "nbformat_minor": 2
}
